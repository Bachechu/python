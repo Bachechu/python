{
  "nbformat": 4,
  "nbformat_minor": 0,
  "metadata": {
    "colab": {
      "provenance": [],
      "authorship_tag": "ABX9TyNR2fmBX1Wwo7yi2i3kmGwI",
      "include_colab_link": true
    },
    "kernelspec": {
      "name": "python3",
      "display_name": "Python 3"
    },
    "language_info": {
      "name": "python"
    }
  },
  "cells": [
    {
      "cell_type": "markdown",
      "metadata": {
        "id": "view-in-github",
        "colab_type": "text"
      },
      "source": [
        "<a href=\"https://colab.research.google.com/github/Bachechu/python/blob/main/24_03_15_AI_%ED%8C%8C%EC%9D%B4%EC%8D%AC_.ipynb\" target=\"_parent\"><img src=\"https://colab.research.google.com/assets/colab-badge.svg\" alt=\"Open In Colab\"/></a>"
      ]
    },
    {
      "cell_type": "code",
      "execution_count": 17,
      "metadata": {
        "colab": {
          "base_uri": "https://localhost:8080/"
        },
        "id": "_9tRGZ6t-Zaf",
        "outputId": "0f02fdd9-0470-444e-dc21-8659f1bdfb94"
      },
      "outputs": [
        {
          "output_type": "stream",
          "name": "stdout",
          "text": [
            "A+B는?5 45\n",
            "두 정수의 합은: 50\n"
          ]
        }
      ],
      "source": [
        "A, B = map(int, input(\"A+B는?\").split())\n",
        "result = A + B\n",
        "print(\"두 정수의 합은:\" , result)"
      ]
    },
    {
      "cell_type": "code",
      "source": [
        "A, B = map(int, input(\"A+B는?\").split())\n",
        "result = A + B\n",
        "print(\"두 정수의 합은:\", result)"
      ],
      "metadata": {
        "colab": {
          "base_uri": "https://localhost:8080/"
        },
        "id": "ayq3kjGD_tlH",
        "outputId": "126b280c-057c-4efd-8ce5-bc863f360382"
      },
      "execution_count": 16,
      "outputs": [
        {
          "output_type": "stream",
          "name": "stdout",
          "text": [
            "A+B는?23 23\n",
            "두 정수의 합은: 46\n"
          ]
        }
      ]
    },
    {
      "cell_type": "code",
      "source": [
        "a, b = map(int, input().split())\n",
        "\n",
        "if a > b:\n",
        "    print(\">\")\n",
        "elif a < b:\n",
        "    print(\"<\")\n",
        "else:\n",
        "    print(\"==\")\n",
        ""
      ],
      "metadata": {
        "colab": {
          "base_uri": "https://localhost:8080/"
        },
        "id": "6kaQ1TXyAvSW",
        "outputId": "06dab9d6-4062-4cd8-e3d2-d6acdd50c18c"
      },
      "execution_count": 22,
      "outputs": [
        {
          "output_type": "stream",
          "name": "stdout",
          "text": [
            "23 23\n",
            "==\n"
          ]
        }
      ]
    },
    {
      "cell_type": "code",
      "source": [
        "# 두 정수 A와 B를 입력받습니다.\n",
        "a, b = map(int, input(\"두 정수 A와 B를 입력하세요: \").split())\n",
        "\n",
        "# A와 B를 비교합니다.\n",
        "if a > b:\n",
        "    # A가 B보다 큰 경우 '>'를 출력합니다.\n",
        "    print(\">\")\n",
        "elif a < b:\n",
        "    # A가 B보다 작은 경우 '<'를 출력합니다.\n",
        "    print(\"<\")\n",
        "else:\n",
        "    # A와 B가 같은 경우 '=='를 출력합니다.\n",
        "    print(\"==\")"
      ],
      "metadata": {
        "colab": {
          "base_uri": "https://localhost:8080/"
        },
        "id": "9YZU9lOhBVsy",
        "outputId": "aab4f476-a4bf-4d45-b637-b47f4b51ca8d"
      },
      "execution_count": 23,
      "outputs": [
        {
          "output_type": "stream",
          "name": "stdout",
          "text": [
            "두 정수 A와 B를 입력하세요: 45 45\n",
            "==\n"
          ]
        }
      ]
    },
    {
      "cell_type": "code",
      "source": [],
      "metadata": {
        "id": "nhd9igjPBaKa"
      },
      "execution_count": null,
      "outputs": []
    }
  ]
}