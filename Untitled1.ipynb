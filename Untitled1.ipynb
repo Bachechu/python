{
  "nbformat": 4,
  "nbformat_minor": 0,
  "metadata": {
    "colab": {
      "provenance": [],
      "authorship_tag": "ABX9TyORyjcXuAXqUt4E8bnWJbYc",
      "include_colab_link": true
    },
    "kernelspec": {
      "name": "python3",
      "display_name": "Python 3"
    },
    "language_info": {
      "name": "python"
    }
  },
  "cells": [
    {
      "cell_type": "markdown",
      "metadata": {
        "id": "view-in-github",
        "colab_type": "text"
      },
      "source": [
        "<a href=\"https://colab.research.google.com/github/Bachechu/python/blob/main/Untitled1.ipynb\" target=\"_parent\"><img src=\"https://colab.research.google.com/assets/colab-badge.svg\" alt=\"Open In Colab\"/></a>"
      ]
    },
    {
      "cell_type": "code",
      "execution_count": 9,
      "metadata": {
        "colab": {
          "base_uri": "https://localhost:8080/"
        },
        "id": "9IbCG8-8Beee",
        "outputId": "f4bc64ae-512e-478b-b572-394b9ee27a6f"
      },
      "outputs": [
        {
          "output_type": "stream",
          "name": "stdout",
          "text": [
            "분을 입력하세요: 100\n",
            "시간: 1 시간\n",
            "분: 40 분\n"
          ]
        }
      ],
      "source": [
        "# 사용자로부터 분을 입력받습니다.\n",
        "minutes = int(input(\"분을 입력하세요: \"))\n",
        "\n",
        "# 시간과 분을 계산합니다.\n",
        "hours = minutes // 60  # 분을 60으로 나눈 몫은 시간\n",
        "remaining_minutes = minutes % 60  # 분을 60으로 나눈 나머지는 분\n",
        "\n",
        "# 결과를 출력합니다.\n",
        "print(\"시간:\", hours, \"시간\")\n",
        "print(\"분:\", remaining_minutes, \"분\")\n"
      ]
    },
    {
      "cell_type": "code",
      "source": [
        "# 사용자로부터 섭씨 온도를 입력받습니다.\n",
        "celsius = float(input(\"섭씨 온도를 입력하세요: \"))\n",
        "\n",
        "# 섭씨를 화씨로 변환합니다.\n",
        "fahrenheit = (celsius * 9/5) + 32\n",
        "\n",
        "# 결과를 출력합니다.\n",
        "print(\"화씨 온도:\", fahrenheit, \"도\")"
      ],
      "metadata": {
        "colab": {
          "base_uri": "https://localhost:8080/"
        },
        "id": "B7asqEukB6Df",
        "outputId": "d6e4b0da-2d1f-4335-a8a8-af544a773da5"
      },
      "execution_count": 8,
      "outputs": [
        {
          "output_type": "stream",
          "name": "stdout",
          "text": [
            "섭씨 온도를 입력하세요: 31\n",
            "화씨 온도: 87.8 도\n"
          ]
        }
      ]
    },
    {
      "cell_type": "code",
      "source": [
        "# 파이 값을 3.14로 고정합니다.\n",
        "PI = 3.14\n",
        "\n",
        "# 사용자로부터 원의 반지름을 입력받습니다.\n",
        "radius = float(input(\"원의 반지름을 입력하세요: \"))\n",
        "\n",
        "# 원의 둘레를 계산합니다.\n",
        "circumference = 2 * PI * radius\n",
        "\n",
        "# 원의 면적을 계산합니다.\n",
        "area = PI * radius ** 2\n",
        "\n",
        "# 결과를 출력합니다.\n",
        "print(\"원의 둘레:\", circumference)\n",
        "print(\"원의 면적:\", area)"
      ],
      "metadata": {
        "colab": {
          "base_uri": "https://localhost:8080/"
        },
        "id": "5S8MWmFnB-TX",
        "outputId": "e1d2a9ab-1bdf-4ece-eb3e-f0160072a20c"
      },
      "execution_count": 7,
      "outputs": [
        {
          "output_type": "stream",
          "name": "stdout",
          "text": [
            "원의 반지름을 입력하세요: 15\n",
            "원의 둘레: 94.2\n",
            "원의 면적: 706.5\n"
          ]
        }
      ]
    }
  ]
}