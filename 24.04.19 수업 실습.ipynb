{
  "cells": [
    {
      "cell_type": "markdown",
      "metadata": {
        "id": "view-in-github",
        "colab_type": "text"
      },
      "source": [
        "<a href=\"https://colab.research.google.com/github/Bachechu/python/blob/main/24.04.19%20%EC%88%98%EC%97%85%20%EC%8B%A4%EC%8A%B5.ipynb\" target=\"_parent\"><img src=\"https://colab.research.google.com/assets/colab-badge.svg\" alt=\"Open In Colab\"/></a>"
      ]
    },
    {
      "cell_type": "code",
      "execution_count": 3,
      "metadata": {
        "id": "zwFnJsE6vjf8",
        "outputId": "1f552ab3-540c-4364-9adf-2c615a6e74f2",
        "colab": {
          "base_uri": "https://localhost:8080/"
        }
      },
      "outputs": [
        {
          "output_type": "stream",
          "name": "stdout",
          "text": [
            "[29, 28, 27, 30]\n",
            "30\n"
          ]
        }
      ],
      "source": [
        "score= [[29, 28, 27, 30],\n",
        "        [30, 20, 27, 29],\n",
        "        [23, 25, 29, 30]]\n",
        "print(score[0])\n",
        "print(score[2][3])"
      ]
    },
    {
      "cell_type": "code",
      "source": [
        "score= [[29, 28, 27, 30],\n",
        "        [30, 20, 27, 29],\n",
        "        [23, 25, 29, 30]]\n",
        "for sc in score:\n",
        "  print(sc)"
      ],
      "metadata": {
        "id": "jmUzBdrs6ObE",
        "outputId": "2efb55cf-996a-4f87-9a6f-d654ce30adb0",
        "colab": {
          "base_uri": "https://localhost:8080/"
        }
      },
      "execution_count": 7,
      "outputs": [
        {
          "output_type": "stream",
          "name": "stdout",
          "text": [
            "[29, 28, 27, 30]\n",
            "[30, 20, 27, 29]\n",
            "[23, 25, 29, 30]\n"
          ]
        }
      ]
    },
    {
      "cell_type": "code",
      "source": [
        "score= [[29, 28, 27, 30],\n",
        "        [30, 20, 27, 29],\n",
        "        [23, 25, 29, 30]]\n",
        "for r in range(3):#행의 반복 개수 #열의 반복 개수\n",
        "  for c in range(4):\n",
        "    print(score[r][c], end=\" \")\n",
        "  print()"
      ],
      "metadata": {
        "id": "rwfogXtJ6iyR",
        "outputId": "003a8402-b45f-4daf-af5a-00397bd4dbc2",
        "colab": {
          "base_uri": "https://localhost:8080/"
        }
      },
      "execution_count": 23,
      "outputs": [
        {
          "output_type": "stream",
          "name": "stdout",
          "text": [
            "29 28 27 30 \n",
            "30 20 27 29 \n",
            "23 25 29 30 \n"
          ]
        }
      ]
    },
    {
      "cell_type": "code",
      "source": [
        "score= [[29, 28, 27, 30],\n",
        "        [30, 20, 27, 29],\n",
        "        [23, 25, 29, 30]]\n",
        "for sc in score:\n",
        "  for c in sc:\n",
        "    print(c, end=\" \")\n",
        "  print()\n"
      ],
      "metadata": {
        "id": "KhxHV0qd7iZn",
        "outputId": "42162903-abda-4acb-a6e2-3f2f47827a6f",
        "colab": {
          "base_uri": "https://localhost:8080/"
        }
      },
      "execution_count": 24,
      "outputs": [
        {
          "output_type": "stream",
          "name": "stdout",
          "text": [
            "29 28 27 30 \n",
            "30 20 27 29 \n",
            "23 25 29 30 \n"
          ]
        }
      ]
    },
    {
      "cell_type": "code",
      "source": [
        "score= [[29, 28, 27, 30],\n",
        "        [30, 20, 27, 29],\n",
        "        [23, 25, 29, 30]]\n",
        "for c1,c2,c3,c4 in score:\n",
        "  print(c1, c2, c3,c4)\n"
      ],
      "metadata": {
        "id": "ZeR0kjTN7chP",
        "outputId": "ac1b0795-ed0c-485a-e4d1-311285aa8e06",
        "colab": {
          "base_uri": "https://localhost:8080/"
        }
      },
      "execution_count": 22,
      "outputs": [
        {
          "output_type": "stream",
          "name": "stdout",
          "text": [
            "29 28 27 30\n",
            "30 20 27 29\n",
            "23 25 29 30\n"
          ]
        }
      ]
    },
    {
      "cell_type": "code",
      "source": [
        "emails = {\"alice\": \"alice@example.com\", \"bob\":\"bob@example.com\",\"tom\": \"tom@example.com\"}\n",
        "print(emails[\"alice\"])\n",
        "\n",
        "for n in emails :\n",
        "  print(n)\n",
        "\n",
        "for n in emails :\n",
        "  print(n, emails[n])\n",
        "\n"
      ],
      "metadata": {
        "id": "xMrCf_y67o4v",
        "outputId": "8ceeab09-c99d-4155-c239-c8e314d18e8b",
        "colab": {
          "base_uri": "https://localhost:8080/"
        }
      },
      "execution_count": 33,
      "outputs": [
        {
          "output_type": "stream",
          "name": "stdout",
          "text": [
            "alice@example.com\n",
            "alice\n",
            "bob\n",
            "tom\n",
            "alice alice@example.com\n",
            "bob bob@example.com\n",
            "tom tom@example.com\n"
          ]
        }
      ]
    },
    {
      "cell_type": "code",
      "source": [
        "scores = []  # 점수를 저장할 빈 리스트 생성\n",
        "total = 0    # 총합을 저장할 변수 생성\n",
        "count = 0    # 총인원수를 저장할 변수 생성\n",
        "\n",
        "for _ in range(1, 100):  # 최대 100명의 학생 점수를 입력받음\n",
        "    score = input(\"학생의 점수를 입력하세요 (문자 입력 시 종료): \")\n",
        "\n",
        "    # 만약 입력이 숫자가 아니라면 입력 종료\n",
        "    if not score.isdigit():\n",
        "        break\n",
        "\n",
        "    # 입력이 숫자라면 리스트에 추가하고 총합, 총인원수 업데이트\n",
        "    score = int(score)\n",
        "    scores.append(score)\n",
        "    total += score\n",
        "    count += 1\n",
        "\n",
        "if count == 0:\n",
        "    print(\"입력된 학생이 없습니다.\")\n",
        "else:\n",
        "    average = total / count  # 평균 계산\n",
        "    print(\"입력 데이터 출력\", scores)\n",
        "    print(\"모든 학생의 합계:\", total)\n",
        "    print(\"총인원수:\", count)\n",
        "    print(\"평균 점수:\", average)"
      ],
      "metadata": {
        "id": "4-XwS6Np7o2f",
        "outputId": "104aeedb-8ec8-47db-9934-8d4541b04d28",
        "colab": {
          "base_uri": "https://localhost:8080/"
        }
      },
      "execution_count": 43,
      "outputs": [
        {
          "output_type": "stream",
          "name": "stdout",
          "text": [
            "학생의 점수를 입력하세요 (문자 입력 시 종료): 90\n",
            "학생의 점수를 입력하세요 (문자 입력 시 종료): 70\n",
            "학생의 점수를 입력하세요 (문자 입력 시 종료): 30\n",
            "학생의 점수를 입력하세요 (문자 입력 시 종료): =\n",
            "입력 데이터 출력 [90, 70, 30]\n",
            "모든 학생의 합계: 190\n",
            "총인원수: 3\n",
            "평균 점수: 63.333333333333336\n"
          ]
        }
      ]
    },
    {
      "cell_type": "code",
      "source": [
        "scores = []  # 점수를 저장할 빈 리스트 생성\n",
        "total = 0    # 총합을 저장할 변수 생성\n",
        "count = 0    # 총인원수를 저장할 변수 생성\n",
        "\n",
        "while True: #무한 반복\n",
        "    score = input(\"학생의 점수를 입력하세요 (문자 입력 시 종료): \")\n",
        "\n",
        "    # 만약 입력이 숫자가 아니라면 입력 종료\n",
        "    if not score.isdigit():\n",
        "        break\n",
        "\n",
        "    # 입력이 숫자라면 리스트에 추가하고 총합, 총인원수 업데이트\n",
        "    score = int(score)\n",
        "    scores.append(score)\n",
        "    total += score\n",
        "    count += 1\n",
        "\n",
        "if count == 0:\n",
        "    print(\"입력된 학생이 없습니다.\")\n",
        "else:\n",
        "    average = total / count  # 평균 계산\n",
        "    print(\"입력 데이터 출력\", scores)\n",
        "    print(\"모든 학생의 합계:\", total)\n",
        "    print(\"총인원수:\", count)\n",
        "    print(\"평균 점수:\", average)"
      ],
      "metadata": {
        "id": "LKIA9DuA7oz_",
        "outputId": "376c05cc-1f69-418d-d100-0cb3222da718",
        "colab": {
          "base_uri": "https://localhost:8080/"
        }
      },
      "execution_count": 53,
      "outputs": [
        {
          "output_type": "stream",
          "name": "stdout",
          "text": [
            "학생의 점수를 입력하세요 (문자 입력 시 종료): 90\n",
            "학생의 점수를 입력하세요 (문자 입력 시 종료): 70\n",
            "학생의 점수를 입력하세요 (문자 입력 시 종료): 50\\\\30\n",
            "입력 데이터 출력 [90, 70]\n",
            "모든 학생의 합계: 160\n",
            "총인원수: 2\n",
            "평균 점수: 80.0\n"
          ]
        }
      ]
    },
    {
      "cell_type": "code",
      "source": [
        "scores = []  # 점수를 저장할 빈 리스트 생성\n",
        "while True:\n",
        "  score = input(\"학생의 점수를 입력하세요 (문자 입력 시 종료): \")\n",
        "\n",
        "    # 만약 입력이 숫자가 아니라면 입력 종료\n",
        "  if score.isdigit():\n",
        "    scores.append(int(score))\n",
        "  else:\n",
        "    break\n",
        "    print(\"입력 데이터 출력\", scores)\n",
        "    print(\"모든 학생의 합계:\", total)\n",
        "    print(\"총인원수:\", count)\n",
        "    print(\"평균 점수:\", average)\n",
        ""
      ],
      "metadata": {
        "id": "OH2A-E_07oxh",
        "outputId": "1fa46d19-528b-4443-a267-bdb1269aa693",
        "colab": {
          "base_uri": "https://localhost:8080/"
        }
      },
      "execution_count": 60,
      "outputs": [
        {
          "name": "stdout",
          "output_type": "stream",
          "text": [
            "학생의 점수를 입력하세요 (문자 입력 시 종료): 90\n",
            "학생의 점수를 입력하세요 (문자 입력 시 종료): 80\n",
            "학생의 점수를 입력하세요 (문자 입력 시 종료): 70\n",
            "학생의 점수를 입력하세요 (문자 입력 시 종료): ㄴ\n"
          ]
        }
      ]
    },
    {
      "cell_type": "code",
      "source": [
        "scores = []  # 점수를 저장할 빈 리스트 생성\n",
        "total = 0    # 총합을 저장할 변수 생성\n",
        "count = 0    # 총인원수를 저장할 변수 생성\n",
        "while True:\n",
        "  score = input(\"학생의 점수를 입력하세요 (문자 입력 시 종료): \")\n",
        "\n",
        "    # 만약 입력이 숫자가 아니라면 입력 종료\n",
        "  if score.isdigit():\n",
        "    scores.append(int(score))\n",
        "    total += int(score)  # 입력된 점수를 정수로 변환하여 총합에 더함\n",
        "    count += 1\n",
        "\n",
        "  else:\n",
        "    break\n",
        "average = total / count  # 평균 계산\n",
        "print(\"입력 데이터 출력\", scores)\n",
        "print(\"모든 학생의 합계:\", total)\n",
        "print(\"총인원수:\", count)\n",
        "print(\"평균 점수:\", round(average,1))"
      ],
      "metadata": {
        "id": "EeXL4daV7ou3",
        "outputId": "de8da0c2-8a7a-4289-df62-3ee1956feca8",
        "colab": {
          "base_uri": "https://localhost:8080/"
        }
      },
      "execution_count": 66,
      "outputs": [
        {
          "output_type": "stream",
          "name": "stdout",
          "text": [
            "학생의 점수를 입력하세요 (문자 입력 시 종료): 80\n",
            "학생의 점수를 입력하세요 (문자 입력 시 종료): 40\n",
            "학생의 점수를 입력하세요 (문자 입력 시 종료): 50\n",
            "학생의 점수를 입력하세요 (문자 입력 시 종료): d\n",
            "입력 데이터 출력 [80, 40, 50]\n",
            "모든 학생의 합계: 170\n",
            "총인원수: 3\n",
            "평균 점수: 56.7\n"
          ]
        }
      ]
    },
    {
      "cell_type": "code",
      "source": [
        "txt = \"apple#banana#cherry#orange\"\n",
        "x = txt.split(\"#\")\n",
        "print(x)"
      ],
      "metadata": {
        "id": "waxIvEWc7oav",
        "outputId": "d9cf0a30-ac6f-488d-87b9-1222cf46e1f9",
        "colab": {
          "base_uri": "https://localhost:8080/"
        }
      },
      "execution_count": 68,
      "outputs": [
        {
          "output_type": "stream",
          "name": "stdout",
          "text": [
            "['apple', 'banana', 'cherry', 'orange']\n"
          ]
        }
      ]
    },
    {
      "cell_type": "code",
      "source": [
        "input_string = \"apple#banana#cherry#orange\"\n",
        "output_list = input_string.split(\"#\")\n",
        "print(output_list)"
      ],
      "metadata": {
        "id": "uVxATkZhH0c_",
        "outputId": "425bfaf5-fd6c-4a03-def9-4682ba3f6bca",
        "colab": {
          "base_uri": "https://localhost:8080/"
        }
      },
      "execution_count": 70,
      "outputs": [
        {
          "output_type": "stream",
          "name": "stdout",
          "text": [
            "['apple', 'banana', 'cherry', 'orange']\n"
          ]
        }
      ]
    },
    {
      "cell_type": "code",
      "source": [
        "input_set = {'Python', 'Java', 'Ruby'}\n",
        "output_string = \" -> \".join(input_set)\n",
        "print(output_string)\n"
      ],
      "metadata": {
        "id": "miT5P_oqH1uw",
        "outputId": "79a2cc32-8e06-4dfa-f872-c3a7c3bee0c1",
        "colab": {
          "base_uri": "https://localhost:8080/"
        }
      },
      "execution_count": 73,
      "outputs": [
        {
          "output_type": "stream",
          "name": "stdout",
          "text": [
            "Java -> Ruby -> Python\n"
          ]
        }
      ]
    },
    {
      "cell_type": "code",
      "source": [
        "# 리스트 컴프리헨션을 사용하여 1부터 10까지의 숫자 중 짝수인 원소들로 이루어진 리스트 생성\n",
        "even_numbers = [num for num in range(1, 11) if num % 2 == 0]\n",
        "print(even_numbers)"
      ],
      "metadata": {
        "id": "Rl1-NFmcH4BQ",
        "outputId": "50a5c56d-9369-4515-9b39-7e0db8e331e8",
        "colab": {
          "base_uri": "https://localhost:8080/"
        }
      },
      "execution_count": 76,
      "outputs": [
        {
          "output_type": "stream",
          "name": "stdout",
          "text": [
            "[2, 4, 6, 8, 10]\n"
          ]
        }
      ]
    },
    {
      "cell_type": "code",
      "source": [
        "# 리스트 컴프리헨션을 사용하여 도시명 중 \"S\"로 시작하는 것들로 이루어진 리스트 생성\n",
        "city_list = [\"Seoul\", \"New York\", \"London\", \"Shanghai\", \"Paris\", \"Tokyo\"]\n",
        "s_cities = [city for city in city_list if city.startswith(\"S\")]\n",
        "print(s_cities)"
      ],
      "metadata": {
        "id": "4e2KTx8CMZsl",
        "outputId": "418a9f35-3d62-43b9-9510-951403784ec3",
        "colab": {
          "base_uri": "https://localhost:8080/"
        }
      },
      "execution_count": 77,
      "outputs": [
        {
          "output_type": "stream",
          "name": "stdout",
          "text": [
            "['Seoul', 'Shanghai']\n"
          ]
        }
      ]
    },
    {
      "cell_type": "code",
      "source": [
        "input_list = ['Python', 'Java', 'JavaScript']\n",
        "output_1 = list(enumerate(input_list))\n",
        "print(output_1)\n"
      ],
      "metadata": {
        "id": "14c77GUpMaL9",
        "outputId": "d2440938-e2ca-44fc-eac3-f0eaf8a06836",
        "colab": {
          "base_uri": "https://localhost:8080/"
        }
      },
      "execution_count": 79,
      "outputs": [
        {
          "output_type": "stream",
          "name": "stdout",
          "text": [
            "[(0, 'Python'), (1, 'Java'), (2, 'JavaScript')]\n"
          ]
        }
      ]
    },
    {
      "cell_type": "code",
      "source": [
        "output_2 = list(enumerate(input_list, start=1))\n",
        "print(output_2)\n",
        "\n"
      ],
      "metadata": {
        "id": "pY8sAzWhR2fq",
        "outputId": "4b8efeac-2221-4a99-e93e-42457de3835f",
        "colab": {
          "base_uri": "https://localhost:8080/"
        }
      },
      "execution_count": 88,
      "outputs": [
        {
          "output_type": "stream",
          "name": "stdout",
          "text": [
            "[(1, 'Python'), (2, 'Java'), (3, 'JavaScript')]\n"
          ]
        }
      ]
    },
    {
      "cell_type": "code",
      "source": [
        "name = [\"M\", \"N\", \"S\", \"A\"]\n",
        "no = [4, 1, 3, 2]\n",
        "\n",
        "# zip() 함수를 사용하여 이름과 번호 리스트를 쌍으로 묶은 후, 세트로 변환하여 출력\n",
        "result_set = set(zip(name, no))\n",
        "print(result_set)\n",
        "\n"
      ],
      "metadata": {
        "id": "k2Ko7w_BVwKv",
        "outputId": "77433673-bc33-42ab-9ea9-19ecfcd8756e",
        "colab": {
          "base_uri": "https://localhost:8080/"
        }
      },
      "execution_count": 90,
      "outputs": [
        {
          "output_type": "stream",
          "name": "stdout",
          "text": [
            "{('N', 1), ('A', 2), ('S', 3), ('M', 4)}\n"
          ]
        }
      ]
    },
    {
      "cell_type": "code",
      "source": [
        "list1 = [1, 2, 3]\n",
        "list2 = [4, 5, 6]\n",
        "list3 = [7, 8, 9]\n",
        "\n",
        "# 세 개의 리스트를 각각 더한 값들을 출력\n",
        "for a, b, c in zip(list1, list2, list3):\n",
        "    print(\"Sum:\", a + b + c)"
      ],
      "metadata": {
        "id": "qbaKEtYsVwDv",
        "outputId": "08e784e5-f2b2-41a1-eca6-154706466b12",
        "colab": {
          "base_uri": "https://localhost:8080/"
        }
      },
      "execution_count": 91,
      "outputs": [
        {
          "output_type": "stream",
          "name": "stdout",
          "text": [
            "Sum: 12\n",
            "Sum: 15\n",
            "Sum: 18\n"
          ]
        }
      ]
    },
    {
      "cell_type": "code",
      "source": [
        "def get_grade(score):\n",
        "    if score >= 90:\n",
        "        return 'A'\n",
        "    elif score >= 80:\n",
        "        return 'B'\n",
        "    elif score >= 70:\n",
        "        return 'C'\n",
        "    elif score >= 60:\n",
        "        return 'D'\n",
        "    else:\n",
        "        return 'F'\n",
        "\n",
        "scores = [88, 92, 78, 60, 75, 95]\n",
        "grades = list(map(get_grade, scores))\n",
        "\n",
        "print(grades)"
      ],
      "metadata": {
        "id": "PeNPk6GzR4Jp",
        "outputId": "e13f41d7-7fc9-4029-8359-fcbb916085e6",
        "colab": {
          "base_uri": "https://localhost:8080/"
        }
      },
      "execution_count": 84,
      "outputs": [
        {
          "output_type": "stream",
          "name": "stdout",
          "text": [
            "['B', 'A', 'C', 'D', 'C', 'A']\n"
          ]
        }
      ]
    },
    {
      "cell_type": "code",
      "source": [
        "ages = [5, 12, 17, 18, 24, 32]\n",
        "result = list(filter(lambda x: x >= 18, ages))\n",
        "\n",
        "print(result)"
      ],
      "metadata": {
        "id": "oe235rdcU-mY",
        "outputId": "4bdd9b22-1c13-454a-b41d-d2d011c610eb",
        "colab": {
          "base_uri": "https://localhost:8080/"
        }
      },
      "execution_count": 86,
      "outputs": [
        {
          "output_type": "stream",
          "name": "stdout",
          "text": [
            "[18, 24, 32]\n"
          ]
        }
      ]
    },
    {
      "cell_type": "code",
      "source": [
        "def extract_adult_ages(ages):\n",
        "    return list(filter(lambda x: x >= 18, ages))\n",
        "\n",
        "ages = [5, 12, 17, 18, 24, 32]\n",
        "result = extract_adult_ages(ages)\n",
        "print(result)"
      ],
      "metadata": {
        "id": "UE9mWeIiVo93",
        "outputId": "8a45103c-0ab3-49d6-e967-c1d2f1d336e5",
        "colab": {
          "base_uri": "https://localhost:8080/"
        }
      },
      "execution_count": 87,
      "outputs": [
        {
          "output_type": "stream",
          "name": "stdout",
          "text": [
            "[18, 24, 32]\n"
          ]
        }
      ]
    }
  ],
  "metadata": {
    "colab": {
      "name": "Colaboratory에 오신 것을 환영합니다",
      "provenance": [],
      "include_colab_link": true
    },
    "kernelspec": {
      "display_name": "Python 3",
      "name": "python3"
    }
  },
  "nbformat": 4,
  "nbformat_minor": 0
}