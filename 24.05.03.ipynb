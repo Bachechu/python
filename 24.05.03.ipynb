{
  "nbformat": 4,
  "nbformat_minor": 0,
  "metadata": {
    "colab": {
      "provenance": [],
      "authorship_tag": "ABX9TyMOLFY62WocaG4w+zxM5Yw7",
      "include_colab_link": true
    },
    "kernelspec": {
      "name": "python3",
      "display_name": "Python 3"
    },
    "language_info": {
      "name": "python"
    }
  },
  "cells": [
    {
      "cell_type": "markdown",
      "metadata": {
        "id": "view-in-github",
        "colab_type": "text"
      },
      "source": [
        "<a href=\"https://colab.research.google.com/github/Bachechu/python/blob/main/24.05.03.ipynb\" target=\"_parent\"><img src=\"https://colab.research.google.com/assets/colab-badge.svg\" alt=\"Open In Colab\"/></a>"
      ]
    },
    {
      "cell_type": "code",
      "execution_count": 4,
      "metadata": {
        "colab": {
          "base_uri": "https://localhost:8080/"
        },
        "id": "d42RhV6f9-dC",
        "outputId": "6098078a-06e1-4b39-f9bf-397fd24bdd9c"
      },
      "outputs": [
        {
          "output_type": "stream",
          "name": "stdout",
          "text": [
            "60 59\n",
            "PASS\n"
          ]
        }
      ],
      "source": [
        "#학생 수준 평가 시험에서 영어와 수학 점수가 합해서 100점 넘으면 합격(PASS)이다. 각 영어나 수학 점수가 40점 미만이면 과목 미달로 FAIL, 영어나 수학 점수를 입력받아 합계를 구한후 합불을 결정하라\n",
        "# 첫번째 입력값이 영어, 두번째가 수학\n",
        "\n",
        "a = list(map(int,input().split()))\n",
        "\n",
        "if sum(a) > 100:\n",
        "  if a[0] > 40 and a[1] > 40: #if 절 안에 if를 넣은 중첩 if를 and로 이어서 작성한 조건문\n",
        "    print('PASS')\n",
        "  elif a[0] < 40:\n",
        "    print('ENG FAIL')\n",
        "  else:\n",
        "    print('MATH FAIL')\n",
        "else:\n",
        "  print('FAIL')"
      ]
    },
    {
      "cell_type": "code",
      "source": [
        "#N개의 숫자가 공백없이 입력된다 이 숫잗를 모두 합쳐서 합을 출력하는 프로그램을 작성하시오\n",
        "#입력: 첫째 줄에 숫자 N가 주어짐\n",
        "\n",
        "Num=input()\n",
        "Num_list=list(Num)\n",
        "aa=map(int,Num_list)\n",
        "\n",
        "print(sum(aa))\n"
      ],
      "metadata": {
        "colab": {
          "base_uri": "https://localhost:8080/"
        },
        "id": "6R2s0QnACHwy",
        "outputId": "4768f709-7174-4a83-80fb-54ac39f9403e"
      },
      "execution_count": 5,
      "outputs": [
        {
          "output_type": "stream",
          "name": "stdout",
          "text": [
            "5833743\n",
            "33\n"
          ]
        }
      ]
    },
    {
      "cell_type": "code",
      "source": [
        "#다음 리스트에서 확장자가 png나 jpg인 파일명, 확장자를 출력하는 파이썬 코드를 작성하시오\n",
        "#첫째줄에 숫자 N이 주어진다. 결과가 리스트로 출럭\n",
        "\n",
        "# sample1\n",
        "#4\n",
        "#alpha.hwp\n",
        "#bravo.doc\n",
        "#charlie.txt\n",
        "#delta.png\n",
        "\n",
        "\n",
        "n=int(input())\n",
        "a=[input() for _ in range(n)]\n",
        "b=[i for i in a if i.split('.')[-1]=='jpg' or i.split('.')[-1]=='png']\n",
        "print(b)\n",
        "\n",
        "\n",
        "\n",
        "\n",
        "\n",
        "\n",
        "\n",
        "\n",
        "\n",
        "\n",
        "\n",
        "\n",
        "\n",
        "\n",
        "\n",
        "\n",
        "\n",
        "\n"
      ],
      "metadata": {
        "colab": {
          "base_uri": "https://localhost:8080/"
        },
        "id": "H1uw2TpaDsl8",
        "outputId": "111bd87a-0b5f-4d35-a366-065efd12a9a2"
      },
      "execution_count": 9,
      "outputs": [
        {
          "output_type": "stream",
          "name": "stdout",
          "text": [
            "4\n",
            "alpha.hwp\n",
            "bravo.doc\n",
            "charlie.txt\n",
            "delta.png\n",
            "['delta.png']\n"
          ]
        }
      ]
    },
    {
      "cell_type": "code",
      "source": [
        "pip install numpy"
      ],
      "metadata": {
        "colab": {
          "base_uri": "https://localhost:8080/"
        },
        "id": "Wqqq0sElEHUc",
        "outputId": "99e16d6b-5251-45ad-fecd-eb823eb282aa"
      },
      "execution_count": 14,
      "outputs": [
        {
          "output_type": "stream",
          "name": "stdout",
          "text": [
            "Requirement already satisfied: numpy in /usr/local/lib/python3.10/dist-packages (1.25.2)\n"
          ]
        }
      ]
    },
    {
      "cell_type": "code",
      "source": [
        "import numpy as np\n"
      ],
      "metadata": {
        "id": "bEuJnympI11J"
      },
      "execution_count": 16,
      "outputs": []
    },
    {
      "cell_type": "code",
      "source": [
        "#넘파이 사용 이유: 큰 배열과 행렬 연산에 필요한 다양한 함수를 제공\n",
        "#N차원배열(ndarray)을 효과적으로 다룰 수 있음\n",
        "#넘파이(NumPy) 의 필요성 및 응용 분야\n",
        "  # 효율적인 데이터 저장과 접근\n",
        "  # 벡터화 연산\n",
        "  # 다양한 수학 함수와 통계 연산 제공\n",
        "  # 과학계산 및 데이터 분석\n",
        "\n",
        ""
      ],
      "metadata": {
        "id": "RTK5yc78KqXp"
      },
      "execution_count": 17,
      "outputs": []
    },
    {
      "cell_type": "code",
      "source": [
        "#함수()\n",
        "#메소드()\n",
        "#객체.메소드()\n",
        "#객체.속성 -> 괄호가 안붙음\n",
        "#ndarray 클래스 기본 속성\n",
        "#ndarray.shape\n",
        "#ndarray.size - 전체 원소 개수를 반환\n",
        "#ndarray.ndim - 차원의 개수를 반환\n",
        "#ndarray.dtype - 데이터 타입을 반환\n",
        "\n"
      ],
      "metadata": {
        "id": "F-z6yvNxOH5h"
      },
      "execution_count": 18,
      "outputs": []
    },
    {
      "cell_type": "code",
      "source": [
        "arr=np.arange(1,10,2)\n",
        "print(arr)\n"
      ],
      "metadata": {
        "colab": {
          "base_uri": "https://localhost:8080/"
        },
        "id": "alyqchNJTzCq",
        "outputId": "68abeccf-edd7-44f5-d160-bf692a7aa901"
      },
      "execution_count": 21,
      "outputs": [
        {
          "output_type": "stream",
          "name": "stdout",
          "text": [
            "[1 3 5 7 9]\n"
          ]
        }
      ]
    },
    {
      "cell_type": "code",
      "source": [
        "ones_2d=np.ones((3,4))\n",
        "print(ones_2d)"
      ],
      "metadata": {
        "colab": {
          "base_uri": "https://localhost:8080/"
        },
        "id": "FgXr-fUEUJTo",
        "outputId": "eaed1cd4-7cf0-4388-f0c4-a31d5e76e87d"
      },
      "execution_count": 23,
      "outputs": [
        {
          "output_type": "stream",
          "name": "stdout",
          "text": [
            "[[1. 1. 1. 1.]\n",
            " [1. 1. 1. 1.]\n",
            " [1. 1. 1. 1.]]\n"
          ]
        }
      ]
    },
    {
      "cell_type": "code",
      "source": [
        "arr=np.linspace(0,1,10)\n",
        "print(arr)"
      ],
      "metadata": {
        "colab": {
          "base_uri": "https://localhost:8080/"
        },
        "id": "jDIikw9FUaIJ",
        "outputId": "e67de982-8d0e-4188-d3a8-1b0834344003"
      },
      "execution_count": 24,
      "outputs": [
        {
          "output_type": "stream",
          "name": "stdout",
          "text": [
            "[0.         0.11111111 0.22222222 0.33333333 0.44444444 0.55555556\n",
            " 0.66666667 0.77777778 0.88888889 1.        ]\n"
          ]
        }
      ]
    },
    {
      "cell_type": "code",
      "source": [
        "#A행렬을 생성해보자.\n",
        "# A의 모양(shape)을 출력해보자.\n",
        "# 19 값을 추출해보자.\n",
        "# 슬라이싱을 이용하여 [[1, 2], [6, 7]] 값을 추출해보자\n",
        "# 슬라이싱을 이용하여 [[19, 20], [24, 25]] 값을 추출해보자.\n",
        "# 슬라이싱을 이용하여 0축의 첫 번째 행과 두 번째 행을 추출해보자.\n",
        "# 슬라이싱을 이용하여 1축의 마지막 열과 마지막 직전 열을 추출해보자.\n",
        "\n",
        "A = np.array([[ 1, 2, 3, 4, 5],[ 6, 7, 8, 9, 10],[11, 12, 13, 14, 15], [16, 17, 18, 19, 20], [21, 22, 23, 24, 25]])\n",
        "print(A.shape)\n",
        "print(A[3,3])\n",
        "print(A[0:2,0:2])\n",
        "print(A[3:5,3:5])\n",
        "print(A[0])\n",
        "print(A[1])\n",
        "print(A[:,-1])\n",
        "print(A[:,-2])"
      ],
      "metadata": {
        "colab": {
          "base_uri": "https://localhost:8080/"
        },
        "id": "IRVDT_LbUiCo",
        "outputId": "beddd614-b8ab-4664-f864-9b004ed55c79"
      },
      "execution_count": 66,
      "outputs": [
        {
          "output_type": "stream",
          "name": "stdout",
          "text": [
            "(5, 5)\n",
            "19\n",
            "[[1 2]\n",
            " [6 7]]\n",
            "[[19 20]\n",
            " [24 25]]\n",
            "[1 2 3 4 5]\n",
            "[ 6  7  8  9 10]\n",
            "[ 5 10 15 20 25]\n",
            "[ 4  9 14 19 24]\n"
          ]
        }
      ]
    },
    {
      "cell_type": "code",
      "source": [
        "a = np.array([[[1,2,3,4],[5,6,7,8],[9,10,11,12]],[[13,14,15,16],[17,18,19,20],[21,22,23,24]],[[25,26,27,28],[29,30,31,32],[33,34,35,36]]])\n",
        "print(a.shape)\n",
        "print(a.size)\n",
        "print(a.ndim)\n",
        "print(a.dtype)\n",
        "\n"
      ],
      "metadata": {
        "colab": {
          "base_uri": "https://localhost:8080/"
        },
        "id": "tyo7dc8FbuRZ",
        "outputId": "f39a2e4a-658e-4481-bc26-cd39fe8e957f"
      },
      "execution_count": 74,
      "outputs": [
        {
          "output_type": "stream",
          "name": "stdout",
          "text": [
            "(3, 3, 4)\n",
            "36\n",
            "3\n",
            "int64\n"
          ]
        }
      ]
    },
    {
      "cell_type": "code",
      "source": [
        "arr=np.arange(1,37)\n",
        "print(arr)\n",
        "arr_3d=arr.reshape(3,3,4)\n",
        "print(arr_3d)\n",
        "arr_343=arr.reshape(3,4,3)\n",
        "print(arr_343)\n",
        "arr_f=arr_343.flatten()\n",
        "print(arr_f)"
      ],
      "metadata": {
        "colab": {
          "base_uri": "https://localhost:8080/"
        },
        "id": "XTkx8unAcWT5",
        "outputId": "d78d52dc-0c13-4d86-9902-a3340d438d21"
      },
      "execution_count": 80,
      "outputs": [
        {
          "output_type": "stream",
          "name": "stdout",
          "text": [
            "[ 1  2  3  4  5  6  7  8  9 10 11 12 13 14 15 16 17 18 19 20 21 22 23 24\n",
            " 25 26 27 28 29 30 31 32 33 34 35 36]\n",
            "[[[ 1  2  3  4]\n",
            "  [ 5  6  7  8]\n",
            "  [ 9 10 11 12]]\n",
            "\n",
            " [[13 14 15 16]\n",
            "  [17 18 19 20]\n",
            "  [21 22 23 24]]\n",
            "\n",
            " [[25 26 27 28]\n",
            "  [29 30 31 32]\n",
            "  [33 34 35 36]]]\n",
            "[[[ 1  2  3]\n",
            "  [ 4  5  6]\n",
            "  [ 7  8  9]\n",
            "  [10 11 12]]\n",
            "\n",
            " [[13 14 15]\n",
            "  [16 17 18]\n",
            "  [19 20 21]\n",
            "  [22 23 24]]\n",
            "\n",
            " [[25 26 27]\n",
            "  [28 29 30]\n",
            "  [31 32 33]\n",
            "  [34 35 36]]]\n",
            "[ 1  2  3  4  5  6  7  8  9 10 11 12 13 14 15 16 17 18 19 20 21 22 23 24\n",
            " 25 26 27 28 29 30 31 32 33 34 35 36]\n"
          ]
        }
      ]
    }
  ]
}